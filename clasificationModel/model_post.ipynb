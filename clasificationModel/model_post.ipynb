{
 "cells": [
  {
   "cell_type": "code",
   "id": "initial_id",
   "metadata": {
    "collapsed": true,
    "ExecuteTime": {
     "end_time": "2024-09-22T20:25:45.272314Z",
     "start_time": "2024-09-22T20:25:45.199835Z"
    }
   },
   "source": [
    "import numpy as np\n",
    "from sklearn.model_selection import train_test_split\n",
    "from PIL import Image\n",
    "import os"
   ],
   "outputs": [],
   "execution_count": 1
  },
  {
   "metadata": {
    "ExecuteTime": {
     "end_time": "2024-09-22T20:27:23.999252Z",
     "start_time": "2024-09-22T20:27:23.994239Z"
    }
   },
   "cell_type": "code",
   "source": [
    "# Load the data\n",
    "\n",
    "path = (\"C:/kaggle/pets/PetImages\")\n",
    "\n",
    "path_cat = path + \"/Cat\"\n",
    "path_dog = path + \"/Dog\"\n",
    "\n",
    "num_img = 500\n",
    "\n",
    "size = 256\n",
    "\n",
    "def load_dataset():\n",
    "    X = []\n",
    "    y = []\n",
    "    for i in range(num_img):\n",
    "        try:\n",
    "            img = Image.open(os.path.join(path_cat, f\"{i}.jpg\")).resize((size, size))\n",
    "            img = img.convert('RGB')  \n",
    "            X.append(np.array(img))\n",
    "            y.append(1)\n",
    "        except Exception as e:\n",
    "            print(f\"Error loading image {i} from Cat: {e}\")\n",
    "    for i in range(num_img):\n",
    "        try:\n",
    "            img = Image.open(os.path.join(path_dog, f\"{i}.jpg\")).resize((size, size))\n",
    "            img = img.convert('RGB')  \n",
    "            X.append(np.array(img))\n",
    "            y.append(0)\n",
    "        except Exception as e:\n",
    "            print(f\"Error loading image {i} from Dog: {e}\")\n",
    "    return np.array(X), np.array(y)"
   ],
   "id": "6f3750d31c1ea320",
   "outputs": [],
   "execution_count": 2
  },
  {
   "metadata": {
    "ExecuteTime": {
     "end_time": "2024-09-22T20:43:01.661915Z",
     "start_time": "2024-09-22T20:42:59.822342Z"
    }
   },
   "cell_type": "code",
   "source": "X, y = load_dataset()",
   "id": "278835fd0eb1c464",
   "outputs": [],
   "execution_count": 16
  },
  {
   "metadata": {
    "ExecuteTime": {
     "end_time": "2024-09-22T20:43:02.674392Z",
     "start_time": "2024-09-22T20:43:02.312558Z"
    }
   },
   "cell_type": "code",
   "source": [
    "X_flatten = X.reshape(X.shape[0], -1).T\n",
    "X_flatten = X_flatten / 255."
   ],
   "id": "aa5bb2d0232f8828",
   "outputs": [],
   "execution_count": 17
  },
  {
   "metadata": {
    "ExecuteTime": {
     "end_time": "2024-09-22T20:43:03.042109Z",
     "start_time": "2024-09-22T20:43:02.674392Z"
    }
   },
   "cell_type": "code",
   "source": "X_train, X_test, y_train, y_test = train_test_split(X_flatten.T, y, test_size=0.2, random_state=42)",
   "id": "6bac23fa36a60cd8",
   "outputs": [],
   "execution_count": 18
  },
  {
   "metadata": {
    "ExecuteTime": {
     "end_time": "2024-09-22T20:43:03.051576Z",
     "start_time": "2024-09-22T20:43:03.048690Z"
    }
   },
   "cell_type": "code",
   "source": [
    "X_train = X_train.T\n",
    "X_test = X_test.T\n"
   ],
   "id": "9cd2a4f289421bb8",
   "outputs": [],
   "execution_count": 19
  },
  {
   "metadata": {
    "ExecuteTime": {
     "end_time": "2024-09-22T20:43:03.312326Z",
     "start_time": "2024-09-22T20:43:03.309714Z"
    }
   },
   "cell_type": "code",
   "source": [
    "y_train = y_train.reshape(1, -1)\n",
    "y_test = y_test.reshape(1, -1)"
   ],
   "id": "91fdaf5f828a23c4",
   "outputs": [],
   "execution_count": 20
  },
  {
   "metadata": {
    "ExecuteTime": {
     "end_time": "2024-09-22T20:43:03.630711Z",
     "start_time": "2024-09-22T20:43:03.628476Z"
    }
   },
   "cell_type": "code",
   "source": [
    "def sigmoid(z):\n",
    "    return 1 / (1 + np.exp(-z))"
   ],
   "id": "24a0c9ba5955af98",
   "outputs": [],
   "execution_count": 21
  },
  {
   "metadata": {
    "ExecuteTime": {
     "end_time": "2024-09-22T20:43:04.040820Z",
     "start_time": "2024-09-22T20:43:04.038358Z"
    }
   },
   "cell_type": "code",
   "source": [
    "def initialize_with_zeros(dim):\n",
    "    w = np.zeros((dim, 1))\n",
    "    b = 0\n",
    "    return w, b"
   ],
   "id": "94293cbe5270c7bf",
   "outputs": [],
   "execution_count": 22
  },
  {
   "metadata": {
    "ExecuteTime": {
     "end_time": "2024-09-22T20:43:04.405389Z",
     "start_time": "2024-09-22T20:43:04.402820Z"
    }
   },
   "cell_type": "code",
   "source": [
    "def propagate(w, b, X, Y):\n",
    "    m = X.shape[1]\n",
    "    A = sigmoid(np.dot(w.T, X) + b)\n",
    "    cost = -1/m * np.sum(Y * np.log(A) + (1 - Y) * np.log(1 - A))\n",
    "    dw = 1/m * np.dot(X, (A - Y).T)\n",
    "    db = 1/m * np.sum(A - Y)\n",
    "    return dw, db, cost"
   ],
   "id": "c9758ec6e2aeb6e4",
   "outputs": [],
   "execution_count": 23
  },
  {
   "metadata": {
    "ExecuteTime": {
     "end_time": "2024-09-22T20:43:04.829648Z",
     "start_time": "2024-09-22T20:43:04.826936Z"
    }
   },
   "cell_type": "code",
   "source": [
    "def optimize(w, b, X, Y, num_iterations, learning_rate, print_cost=False):\n",
    "    costs = []\n",
    "    for i in range(num_iterations):\n",
    "        dw, db, cost = propagate(w, b, X, Y)\n",
    "        w = w - learning_rate * dw\n",
    "        b = b - learning_rate * db\n",
    "        if i % 100 == 0:\n",
    "            costs.append(cost)\n",
    "            if print_cost:\n",
    "                print(f\"Cost after iteration {i}: {cost}\")\n",
    "    return w, b, costs"
   ],
   "id": "fffe1430bb11ad88",
   "outputs": [],
   "execution_count": 24
  },
  {
   "metadata": {
    "ExecuteTime": {
     "end_time": "2024-09-22T20:43:05.253582Z",
     "start_time": "2024-09-22T20:43:05.250513Z"
    }
   },
   "cell_type": "code",
   "source": [
    "def predict(w, b, X):\n",
    "    m = X.shape[1]\n",
    "    Y_prediction = np.zeros((1, m))\n",
    "    A = sigmoid(np.dot(w.T, X) + b)\n",
    "    for i in range(A.shape[1]):\n",
    "        Y_prediction[0, i] = 1 if A[0, i] > 0.5 else 0\n",
    "    return Y_prediction"
   ],
   "id": "269acc22632b30b6",
   "outputs": [],
   "execution_count": 25
  },
  {
   "metadata": {
    "ExecuteTime": {
     "end_time": "2024-09-22T20:43:05.669516Z",
     "start_time": "2024-09-22T20:43:05.666213Z"
    }
   },
   "cell_type": "code",
   "source": [
    "def model(X_train, Y_train, X_test, Y_test, num_iterations=2000, learning_rate=0.5, print_cost=False):\n",
    "    w, b = initialize_with_zeros(X_train.shape[0])\n",
    "    w, b, dw, db, costs = optimize(w, b, X_train, Y_train, num_iterations, learning_rate, print_cost)\n",
    "    Y_prediction_test = predict(w, b, X_test)\n",
    "    Y_prediction_train = predict(w, b, X_train)\n",
    "    print(f\"Train accuracy: {100 - np.mean(np.abs(Y_prediction_train - Y_train)) * 100}\")\n",
    "    print(f\"Test accuracy: {100 - np.mean(np.abs(Y_prediction_test - Y_test)) * 100}\")\n",
    "    return w, b"
   ],
   "id": "9bcb6da5abd10c57",
   "outputs": [],
   "execution_count": 26
  },
  {
   "metadata": {
    "ExecuteTime": {
     "end_time": "2024-09-22T20:43:31.366726Z",
     "start_time": "2024-09-22T20:43:06.200939Z"
    }
   },
   "cell_type": "code",
   "source": "w, b = model(X_train, y_train, X_test, y_test, num_iterations=2000, learning_rate=0.005, print_cost=True)",
   "id": "bcfda23b6c9e81e8",
   "outputs": [
    {
     "name": "stdout",
     "output_type": "stream",
     "text": [
      "Cost after iteration 0: 0.6931471805599452\n"
     ]
    },
    {
     "name": "stderr",
     "output_type": "stream",
     "text": [
      "C:\\Users\\KATANA\\AppData\\Local\\Temp\\ipykernel_15016\\3348064.py:4: RuntimeWarning: divide by zero encountered in log\n",
      "  cost = -1/m * np.sum(Y * np.log(A) + (1 - Y) * np.log(1 - A))\n",
      "C:\\Users\\KATANA\\AppData\\Local\\Temp\\ipykernel_15016\\3348064.py:4: RuntimeWarning: invalid value encountered in multiply\n",
      "  cost = -1/m * np.sum(Y * np.log(A) + (1 - Y) * np.log(1 - A))\n"
     ]
    },
    {
     "name": "stdout",
     "output_type": "stream",
     "text": [
      "Cost after iteration 100: 12.275031162350128\n",
      "Cost after iteration 200: 20.051281669001593\n",
      "Cost after iteration 300: 19.711447048199904\n",
      "Cost after iteration 400: 18.32093948531712\n",
      "Cost after iteration 500: nan\n",
      "Cost after iteration 600: nan\n"
     ]
    },
    {
     "ename": "KeyboardInterrupt",
     "evalue": "",
     "output_type": "error",
     "traceback": [
      "\u001B[1;31m---------------------------------------------------------------------------\u001B[0m",
      "\u001B[1;31mKeyboardInterrupt\u001B[0m                         Traceback (most recent call last)",
      "Cell \u001B[1;32mIn[27], line 1\u001B[0m\n\u001B[1;32m----> 1\u001B[0m w, b \u001B[38;5;241m=\u001B[39m \u001B[43mmodel\u001B[49m\u001B[43m(\u001B[49m\u001B[43mX_train\u001B[49m\u001B[43m,\u001B[49m\u001B[43m \u001B[49m\u001B[43my_train\u001B[49m\u001B[43m,\u001B[49m\u001B[43m \u001B[49m\u001B[43mX_test\u001B[49m\u001B[43m,\u001B[49m\u001B[43m \u001B[49m\u001B[43my_test\u001B[49m\u001B[43m,\u001B[49m\u001B[43m \u001B[49m\u001B[43mnum_iterations\u001B[49m\u001B[38;5;241;43m=\u001B[39;49m\u001B[38;5;241;43m2000\u001B[39;49m\u001B[43m,\u001B[49m\u001B[43m \u001B[49m\u001B[43mlearning_rate\u001B[49m\u001B[38;5;241;43m=\u001B[39;49m\u001B[38;5;241;43m0.005\u001B[39;49m\u001B[43m,\u001B[49m\u001B[43m \u001B[49m\u001B[43mprint_cost\u001B[49m\u001B[38;5;241;43m=\u001B[39;49m\u001B[38;5;28;43;01mTrue\u001B[39;49;00m\u001B[43m)\u001B[49m\n",
      "Cell \u001B[1;32mIn[26], line 3\u001B[0m, in \u001B[0;36mmodel\u001B[1;34m(X_train, Y_train, X_test, Y_test, num_iterations, learning_rate, print_cost)\u001B[0m\n\u001B[0;32m      1\u001B[0m \u001B[38;5;28;01mdef\u001B[39;00m \u001B[38;5;21mmodel\u001B[39m(X_train, Y_train, X_test, Y_test, num_iterations\u001B[38;5;241m=\u001B[39m\u001B[38;5;241m2000\u001B[39m, learning_rate\u001B[38;5;241m=\u001B[39m\u001B[38;5;241m0.5\u001B[39m, print_cost\u001B[38;5;241m=\u001B[39m\u001B[38;5;28;01mFalse\u001B[39;00m):\n\u001B[0;32m      2\u001B[0m     w, b \u001B[38;5;241m=\u001B[39m initialize_with_zeros(X_train\u001B[38;5;241m.\u001B[39mshape[\u001B[38;5;241m0\u001B[39m])\n\u001B[1;32m----> 3\u001B[0m     w, b, dw, db, costs \u001B[38;5;241m=\u001B[39m \u001B[43moptimize\u001B[49m\u001B[43m(\u001B[49m\u001B[43mw\u001B[49m\u001B[43m,\u001B[49m\u001B[43m \u001B[49m\u001B[43mb\u001B[49m\u001B[43m,\u001B[49m\u001B[43m \u001B[49m\u001B[43mX_train\u001B[49m\u001B[43m,\u001B[49m\u001B[43m \u001B[49m\u001B[43mY_train\u001B[49m\u001B[43m,\u001B[49m\u001B[43m \u001B[49m\u001B[43mnum_iterations\u001B[49m\u001B[43m,\u001B[49m\u001B[43m \u001B[49m\u001B[43mlearning_rate\u001B[49m\u001B[43m,\u001B[49m\u001B[43m \u001B[49m\u001B[43mprint_cost\u001B[49m\u001B[43m)\u001B[49m\n\u001B[0;32m      4\u001B[0m     Y_prediction_test \u001B[38;5;241m=\u001B[39m predict(w, b, X_test)\n\u001B[0;32m      5\u001B[0m     Y_prediction_train \u001B[38;5;241m=\u001B[39m predict(w, b, X_train)\n",
      "Cell \u001B[1;32mIn[24], line 4\u001B[0m, in \u001B[0;36moptimize\u001B[1;34m(w, b, X, Y, num_iterations, learning_rate, print_cost)\u001B[0m\n\u001B[0;32m      2\u001B[0m costs \u001B[38;5;241m=\u001B[39m []\n\u001B[0;32m      3\u001B[0m \u001B[38;5;28;01mfor\u001B[39;00m i \u001B[38;5;129;01min\u001B[39;00m \u001B[38;5;28mrange\u001B[39m(num_iterations):\n\u001B[1;32m----> 4\u001B[0m     dw, db, cost \u001B[38;5;241m=\u001B[39m \u001B[43mpropagate\u001B[49m\u001B[43m(\u001B[49m\u001B[43mw\u001B[49m\u001B[43m,\u001B[49m\u001B[43m \u001B[49m\u001B[43mb\u001B[49m\u001B[43m,\u001B[49m\u001B[43m \u001B[49m\u001B[43mX\u001B[49m\u001B[43m,\u001B[49m\u001B[43m \u001B[49m\u001B[43mY\u001B[49m\u001B[43m)\u001B[49m\n\u001B[0;32m      5\u001B[0m     w \u001B[38;5;241m=\u001B[39m w \u001B[38;5;241m-\u001B[39m learning_rate \u001B[38;5;241m*\u001B[39m dw\n\u001B[0;32m      6\u001B[0m     b \u001B[38;5;241m=\u001B[39m b \u001B[38;5;241m-\u001B[39m learning_rate \u001B[38;5;241m*\u001B[39m db\n",
      "Cell \u001B[1;32mIn[23], line 5\u001B[0m, in \u001B[0;36mpropagate\u001B[1;34m(w, b, X, Y)\u001B[0m\n\u001B[0;32m      3\u001B[0m A \u001B[38;5;241m=\u001B[39m sigmoid(np\u001B[38;5;241m.\u001B[39mdot(w\u001B[38;5;241m.\u001B[39mT, X) \u001B[38;5;241m+\u001B[39m b)\n\u001B[0;32m      4\u001B[0m cost \u001B[38;5;241m=\u001B[39m \u001B[38;5;241m-\u001B[39m\u001B[38;5;241m1\u001B[39m\u001B[38;5;241m/\u001B[39mm \u001B[38;5;241m*\u001B[39m np\u001B[38;5;241m.\u001B[39msum(Y \u001B[38;5;241m*\u001B[39m np\u001B[38;5;241m.\u001B[39mlog(A) \u001B[38;5;241m+\u001B[39m (\u001B[38;5;241m1\u001B[39m \u001B[38;5;241m-\u001B[39m Y) \u001B[38;5;241m*\u001B[39m np\u001B[38;5;241m.\u001B[39mlog(\u001B[38;5;241m1\u001B[39m \u001B[38;5;241m-\u001B[39m A))\n\u001B[1;32m----> 5\u001B[0m dw \u001B[38;5;241m=\u001B[39m \u001B[38;5;241m1\u001B[39m\u001B[38;5;241m/\u001B[39mm \u001B[38;5;241m*\u001B[39m \u001B[43mnp\u001B[49m\u001B[38;5;241;43m.\u001B[39;49m\u001B[43mdot\u001B[49m\u001B[43m(\u001B[49m\u001B[43mX\u001B[49m\u001B[43m,\u001B[49m\u001B[43m \u001B[49m\u001B[43m(\u001B[49m\u001B[43mA\u001B[49m\u001B[43m \u001B[49m\u001B[38;5;241;43m-\u001B[39;49m\u001B[43m \u001B[49m\u001B[43mY\u001B[49m\u001B[43m)\u001B[49m\u001B[38;5;241;43m.\u001B[39;49m\u001B[43mT\u001B[49m\u001B[43m)\u001B[49m\n\u001B[0;32m      6\u001B[0m db \u001B[38;5;241m=\u001B[39m \u001B[38;5;241m1\u001B[39m\u001B[38;5;241m/\u001B[39mm \u001B[38;5;241m*\u001B[39m np\u001B[38;5;241m.\u001B[39msum(A \u001B[38;5;241m-\u001B[39m Y)\n\u001B[0;32m      7\u001B[0m \u001B[38;5;28;01mreturn\u001B[39;00m dw, db, cost\n",
      "\u001B[1;31mKeyboardInterrupt\u001B[0m: "
     ]
    }
   ],
   "execution_count": 27
  },
  {
   "metadata": {},
   "cell_type": "code",
   "outputs": [],
   "execution_count": null,
   "source": "",
   "id": "6e856a9f0408efc"
  }
 ],
 "metadata": {
  "kernelspec": {
   "display_name": "Python 3",
   "language": "python",
   "name": "python3"
  },
  "language_info": {
   "codemirror_mode": {
    "name": "ipython",
    "version": 2
   },
   "file_extension": ".py",
   "mimetype": "text/x-python",
   "name": "python",
   "nbconvert_exporter": "python",
   "pygments_lexer": "ipython2",
   "version": "2.7.6"
  }
 },
 "nbformat": 4,
 "nbformat_minor": 5
}
